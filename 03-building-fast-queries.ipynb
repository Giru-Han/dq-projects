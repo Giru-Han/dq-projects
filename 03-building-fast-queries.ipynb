{
 "cells": [
  {
   "cell_type": "markdown",
   "metadata": {},
   "source": [
    "# Building Fast Laptop Quaries from CSV"
   ]
  },
  {
   "cell_type": "markdown",
   "metadata": {},
   "source": [
    "## Reading CSV File\n",
    "We use `csv` module to read the csv file and convert it to list with `header` separated and keep only the content as `rows`."
   ]
  },
  {
   "cell_type": "code",
   "execution_count": 1,
   "metadata": {},
   "outputs": [
    {
     "name": "stdout",
     "output_type": "stream",
     "text": [
      "['Id', 'Company', 'Product', 'TypeName', 'Inches', 'ScreenResolution', 'Cpu', 'Ram', 'Memory', 'Gpu', 'OpSys', 'Weight', 'Price']\n",
      "[['6571244', 'Apple', 'MacBook Pro', 'Ultrabook', '13.3', 'IPS Panel Retina Display 2560x1600', 'Intel Core i5 2.3GHz', '8GB', '128GB SSD', 'Intel Iris Plus Graphics 640', 'macOS', '1.37kg', '1339'], ['7287764', 'Apple', 'Macbook Air', 'Ultrabook', '13.3', '1440x900', 'Intel Core i5 1.8GHz', '8GB', '128GB Flash Storage', 'Intel HD Graphics 6000', 'macOS', '1.34kg', '898'], ['3362737', 'HP', '250 G6', 'Notebook', '15.6', 'Full HD 1920x1080', 'Intel Core i5 7200U 2.5GHz', '8GB', '256GB SSD', 'Intel HD Graphics 620', 'No OS', '1.86kg', '575'], ['9722156', 'Apple', 'MacBook Pro', 'Ultrabook', '15.4', 'IPS Panel Retina Display 2880x1800', 'Intel Core i7 2.7GHz', '16GB', '512GB SSD', 'AMD Radeon Pro 455', 'macOS', '1.83kg', '2537'], ['8550527', 'Apple', 'MacBook Pro', 'Ultrabook', '13.3', 'IPS Panel Retina Display 2560x1600', 'Intel Core i5 3.1GHz', '8GB', '256GB SSD', 'Intel Iris Plus Graphics 650', 'macOS', '1.37kg', '1803']]\n"
     ]
    }
   ],
   "source": [
    "import csv\n",
    "with open('laptops.csv') as file:\n",
    "    laptop = list(csv.reader(file))\n",
    "    header = laptop[0]\n",
    "    rows = laptop[1:]\n",
    "    \n",
    "print(header)\n",
    "print(rows[:5])\n"
   ]
  },
  {
   "cell_type": "markdown",
   "metadata": {},
   "source": [
    "## Create Inventory Class\n",
    "we define a class name `inventory` where it take CSV file as argument and read into `self.header` and `self.rows` by default."
   ]
  },
  {
   "cell_type": "code",
   "execution_count": 2,
   "metadata": {},
   "outputs": [],
   "source": [
    "class Inventory:\n",
    "    def __init__(self, csv_filename):\n",
    "        with open(csv_filename) as file:\n",
    "            self.rows = list(csv.reader(file))\n",
    "            self.header = self.rows[0]\n",
    "            self.rows = self.rows[1:]\n",
    "        for row in self.rows:\n",
    "            row[-1] = int(row[-1])\n",
    "        "
   ]
  },
  {
   "cell_type": "code",
   "execution_count": 3,
   "metadata": {},
   "outputs": [
    {
     "name": "stdout",
     "output_type": "stream",
     "text": [
      "['Id', 'Company', 'Product', 'TypeName', 'Inches', 'ScreenResolution', 'Cpu', 'Ram', 'Memory', 'Gpu', 'OpSys', 'Weight', 'Price']\n",
      "1303\n"
     ]
    }
   ],
   "source": [
    "inventory = Inventory('laptops.csv')\n",
    "print(inventory.header)\n",
    "print(len(inventory.rows))"
   ]
  },
  {
   "cell_type": "markdown",
   "metadata": {},
   "source": [
    "## Finding laptop from the ID\n",
    "Create a`get_laptop_from_id()` method (function inside class) that returns the rows associated by id."
   ]
  },
  {
   "cell_type": "code",
   "execution_count": 4,
   "metadata": {},
   "outputs": [],
   "source": [
    "class Inventory:\n",
    "    def __init__(self, csv_filename):\n",
    "        with open(csv_filename) as file:\n",
    "            self.rows = list(csv.reader(file))\n",
    "            self.header = self.rows[0]\n",
    "            self.rows = self.rows[1:]\n",
    "        for row in self.rows:\n",
    "            row[-1] = int(row[-1])\n",
    "        \n",
    "    def get_laptop_from_id(self, laptop_id):\n",
    "        for row in self.rows:\n",
    "            if laptop_id == row[0]:\n",
    "                return row\n",
    "        return None\n",
    "    "
   ]
  },
  {
   "cell_type": "code",
   "execution_count": 5,
   "metadata": {
    "scrolled": false
   },
   "outputs": [
    {
     "name": "stdout",
     "output_type": "stream",
     "text": [
      "['3362737', 'HP', '250 G6', 'Notebook', '15.6', 'Full HD 1920x1080', 'Intel Core i5 7200U 2.5GHz', '8GB', '256GB SSD', 'Intel HD Graphics 620', 'No OS', '1.86kg', 575]\n",
      "None\n"
     ]
    }
   ],
   "source": [
    "inventory = Inventory('laptops.csv')\n",
    "\n",
    "print(inventory.get_laptop_from_id('3362737'))\n",
    "print(inventory.get_laptop_from_id('3362736'))\n"
   ]
  },
  {
   "cell_type": "markdown",
   "metadata": {},
   "source": [
    "## Improving Finding Method\n",
    "Improve time complexity of finding a laptop by precompute a dictionary that maps laptop ids to rows."
   ]
  },
  {
   "cell_type": "code",
   "execution_count": 6,
   "metadata": {},
   "outputs": [],
   "source": [
    "class Inventory:\n",
    "    def __init__(self, csv_filename):\n",
    "        with open(csv_filename) as file:\n",
    "            self.rows = list(csv.reader(file))\n",
    "            self.header = self.rows[0]\n",
    "            self.rows = self.rows[1:]\n",
    "        for row in self.rows:\n",
    "            row[-1] = int(row[-1])\n",
    "        \n",
    "        self.id_to_row = {}\n",
    "        for row in self.rows:\n",
    "            self.id_to_row[row[0]] = row\n",
    "        \n",
    "        \n",
    "    def get_laptop_from_id(self, laptop_id):\n",
    "        for row in self.rows:\n",
    "            if laptop_id == row[0]:\n",
    "                return row\n",
    "        return None\n",
    "    \n",
    "    def get_laptop_from_id_fast(self, laptop_id):\n",
    "        if laptop_id in self.id_to_row:\n",
    "            return self.id_to_row[laptop_id]\n",
    "        return None\n",
    "    "
   ]
  },
  {
   "cell_type": "code",
   "execution_count": 7,
   "metadata": {
    "scrolled": true
   },
   "outputs": [
    {
     "name": "stdout",
     "output_type": "stream",
     "text": [
      "['3362737', 'HP', '250 G6', 'Notebook', '15.6', 'Full HD 1920x1080', 'Intel Core i5 7200U 2.5GHz', '8GB', '256GB SSD', 'Intel HD Graphics 620', 'No OS', '1.86kg', 575]\n",
      "None\n"
     ]
    }
   ],
   "source": [
    "inventory = Inventory('laptops.csv')\n",
    "\n",
    "print(inventory.get_laptop_from_id('3362737'))\n",
    "print(inventory.get_laptop_from_id('3362736'))"
   ]
  },
  {
   "cell_type": "markdown",
   "metadata": {},
   "source": [
    "## Comparing Performance\n",
    "Compare the execution time of 10000 id lookups of `get_laptop_from_id()` vs `get_laptop_from_id_fast()`."
   ]
  },
  {
   "cell_type": "code",
   "execution_count": 8,
   "metadata": {},
   "outputs": [
    {
     "name": "stdout",
     "output_type": "stream",
     "text": [
      "No Dictionary   :  0.9784669876098633\n",
      "With Dictionary :  0.005357980728149414\n"
     ]
    }
   ],
   "source": [
    "import time\n",
    "import random\n",
    "\n",
    "ids = [str(random.randint(1000000, 9999999)) for _ in range(10000)]\n",
    "inventory = Inventory('laptops.csv')\n",
    "\n",
    "total_time_no_dict = 0\n",
    "for id in ids:\n",
    "    start = time.time()\n",
    "    inventory.get_laptop_from_id(id)\n",
    "    end = time.time()\n",
    "    total_time_no_dict += end - start\n",
    "\n",
    "total_time_dict = 0\n",
    "for id in ids:\n",
    "    start = time.time()\n",
    "    inventory.get_laptop_from_id_fast(id)\n",
    "    end = time.time()\n",
    "    total_time_dict += end - start\n",
    "\n",
    "print('No Dictionary   : ', total_time_no_dict)\n",
    "print('With Dictionary : ', total_time_dict)\n"
   ]
  },
  {
   "cell_type": "markdown",
   "metadata": {},
   "source": [
    "## Analysis\n",
    "This implies precompute dictionary method 182 faster than the method without dictionary with 10000 runs test."
   ]
  },
  {
   "cell_type": "markdown",
   "metadata": {},
   "source": [
    "## Check Laptops for Promotion\n",
    "Create a method to check if a give amount of money sufficient to purchase either one or two laptops."
   ]
  },
  {
   "cell_type": "code",
   "execution_count": 9,
   "metadata": {},
   "outputs": [],
   "source": [
    "class Inventory:\n",
    "    def __init__(self, csv_filename):\n",
    "        with open(csv_filename) as file:\n",
    "            self.rows = list(csv.reader(file))\n",
    "            self.header = self.rows[0]\n",
    "            self.rows = self.rows[1:]\n",
    "        for row in self.rows:\n",
    "            row[-1] = int(row[-1])\n",
    "        \n",
    "        self.id_to_row = {}\n",
    "        for row in self.rows:\n",
    "            self.id_to_row[row[0]] = row\n",
    "        \n",
    "        \n",
    "    def get_laptop_from_id(self, laptop_id):\n",
    "        for row in self.rows:\n",
    "            if laptop_id == row[0]:\n",
    "                return row\n",
    "        return None\n",
    "    \n",
    "    def get_laptop_from_id_fast(self, laptop_id):\n",
    "        if laptop_id in self.id_to_row:\n",
    "            return self.id_to_row[laptop_id]\n",
    "        return None\n",
    "    \n",
    "    def check_promotion_dollars(self, dollars):\n",
    "        for row in self.rows:\n",
    "            if row[-1] == dollars:\n",
    "                return True\n",
    "        for row1 in self.rows:\n",
    "            for row2 in self.rows:\n",
    "                if row1[-1] + row2[-1] == dollars:\n",
    "                    return True\n",
    "        return False\n",
    "            "
   ]
  },
  {
   "cell_type": "code",
   "execution_count": 10,
   "metadata": {},
   "outputs": [
    {
     "name": "stdout",
     "output_type": "stream",
     "text": [
      "True\n",
      "False\n"
     ]
    }
   ],
   "source": [
    "inventory = Inventory('laptops.csv')\n",
    "\n",
    "print(inventory.check_promotion_dollars(1000))\n",
    "print(inventory.check_promotion_dollars(442))"
   ]
  },
  {
   "cell_type": "markdown",
   "metadata": {},
   "source": [
    "## Optimizing Laptops Promotion\n",
    "We precompute a set `self.prices` that contains all the laptops prices. Then create faster method that checks the set quickly."
   ]
  },
  {
   "cell_type": "code",
   "execution_count": 11,
   "metadata": {},
   "outputs": [],
   "source": [
    "class Inventory:\n",
    "    def __init__(self, csv_filename):\n",
    "        with open(csv_filename) as file:\n",
    "            self.rows = list(csv.reader(file))\n",
    "            self.header = self.rows[0]\n",
    "            self.rows = self.rows[1:]\n",
    "        for row in self.rows:\n",
    "            row[-1] = int(row[-1])\n",
    "        \n",
    "        self.id_to_row = {}\n",
    "        for row in self.rows:\n",
    "            self.id_to_row[row[0]] = row\n",
    "            \n",
    "        self.prices = set()\n",
    "        for row in self.rows:\n",
    "            self.prices.add(row[-1])\n",
    "        \n",
    "        \n",
    "    def get_laptop_from_id(self, laptop_id):\n",
    "        for row in self.rows:\n",
    "            if laptop_id == row[0]:\n",
    "                return row\n",
    "        return None\n",
    "    \n",
    "    def get_laptop_from_id_fast(self, laptop_id):\n",
    "        if laptop_id in self.id_to_row:\n",
    "            return self.id_to_row[laptop_id]\n",
    "        return None\n",
    "    \n",
    "    def check_promotion_dollars(self, dollars):\n",
    "        for row in self.rows:\n",
    "            if row[-1] == dollars:\n",
    "                return True\n",
    "        for row1 in self.rows:\n",
    "            for row2 in self.rows:\n",
    "                if row1[-1] + row2[-1] == dollars:\n",
    "                    return True\n",
    "        return False\n",
    "    \n",
    "    def check_promotion_dollars_fast(self, dollars):\n",
    "        if dollars in self.prices:\n",
    "            return True\n",
    "        for price in self.prices:\n",
    "            if (dollars - price) in self.prices:\n",
    "                return True\n",
    "        return False\n",
    "            "
   ]
  },
  {
   "cell_type": "code",
   "execution_count": 12,
   "metadata": {},
   "outputs": [
    {
     "name": "stdout",
     "output_type": "stream",
     "text": [
      "True\n",
      "False\n"
     ]
    }
   ],
   "source": [
    "inventory = Inventory('laptops.csv')\n",
    "\n",
    "print(inventory.check_promotion_dollars_fast(1000))\n",
    "print(inventory.check_promotion_dollars_fast(442))"
   ]
  },
  {
   "cell_type": "markdown",
   "metadata": {},
   "source": [
    "## Comparing Promotion Function Performance\n",
    "Compare both functions with 100 runs of random prices."
   ]
  },
  {
   "cell_type": "code",
   "execution_count": 14,
   "metadata": {},
   "outputs": [
    {
     "name": "stdout",
     "output_type": "stream",
     "text": [
      "No Set   :  1.6290829181671143\n",
      "With Set :  0.0007951259613037109\n"
     ]
    }
   ],
   "source": [
    "prices = [random.randint(100, 5000) for _ in range(100)]\n",
    "inventory = Inventory('laptops.csv')\n",
    "\n",
    "total_time_no_set = 0\n",
    "for price in prices:\n",
    "    start = time.time()\n",
    "    inventory.check_promotion_dollars(price)\n",
    "    end = time.time()\n",
    "    total_time_no_set += end - start\n",
    "\n",
    "total_time_set = 0\n",
    "for price in prices:\n",
    "    start = time.time()\n",
    "    inventory.check_promotion_dollars_fast(price)\n",
    "    end = time.time()\n",
    "    total_time_set += end - start\n",
    "\n",
    "print('No Set   : ', total_time_no_set)\n",
    "print('With Set : ', total_time_set)\n"
   ]
  },
  {
   "cell_type": "markdown",
   "metadata": {},
   "source": [
    "## Analysis\n",
    "we can see extreme improvement in performance. The new method runs *(1.629082/0.000795) = 2049* times faster execution in the test."
   ]
  },
  {
   "cell_type": "markdown",
   "metadata": {},
   "source": [
    "# Find the Laptops Within a Budget\n",
    "To find the laptops of price falls within the budget, we sort the rows by price and use a method that returns the index number of first expensive laptop over the budget."
   ]
  },
  {
   "cell_type": "code",
   "execution_count": 23,
   "metadata": {},
   "outputs": [],
   "source": [
    "def row_price(row):\n",
    "    return row[-1]\n",
    "\n",
    "class Inventory:\n",
    "    def __init__(self, csv_filename):\n",
    "        with open(csv_filename) as file:\n",
    "            self.rows = list(csv.reader(file))\n",
    "            self.header = self.rows[0]\n",
    "            self.rows = self.rows[1:]\n",
    "        for row in self.rows:\n",
    "            row[-1] = int(row[-1])\n",
    "        \n",
    "        self.id_to_row = {}\n",
    "        for row in self.rows:\n",
    "            self.id_to_row[row[0]] = row\n",
    "            \n",
    "        self.prices = set()\n",
    "        for row in self.rows:\n",
    "            self.prices.add(row[-1])\n",
    "        \n",
    "        self.rows_by_price = sorted(self.rows, key=row_price)\n",
    "        \n",
    "    def get_laptop_from_id(self, laptop_id):\n",
    "        for row in self.rows:\n",
    "            if laptop_id == row[0]:\n",
    "                return row\n",
    "        return None\n",
    "    \n",
    "    def get_laptop_from_id_fast(self, laptop_id):\n",
    "        if laptop_id in self.id_to_row:\n",
    "            return self.id_to_row[laptop_id]\n",
    "        return None\n",
    "    \n",
    "    def check_promotion_dollars(self, dollars):\n",
    "        for row in self.rows:\n",
    "            if row[-1] == dollars:\n",
    "                return True\n",
    "        for row1 in self.rows:\n",
    "            for row2 in self.rows:\n",
    "                if row1[-1] + row2[-1] == dollars:\n",
    "                    return True\n",
    "        return False\n",
    "    \n",
    "    def check_promotion_dollars_fast(self, dollars):\n",
    "        if dollars in self.prices:\n",
    "            return True\n",
    "        for price in self.prices:\n",
    "            if (dollars - price) in self.prices:\n",
    "                return True\n",
    "        return False\n",
    "            \n",
    "    def find_first_laptop_more_expensive(self, money):\n",
    "        range_start = 0\n",
    "        range_end = len(self.rows_by_price) - 1   \n",
    "        while range_start < range_end:\n",
    "            range_middle = (range_end + range_start) // 2\n",
    "            cost = self.rows_by_price[range_middle][-1]\n",
    "            if money < cost:\n",
    "                range_end = range_middle\n",
    "            else:\n",
    "                range_start = range_middle + 1\n",
    "        if self.rows_by_price[range_start][-1] > money:\n",
    "            return range_start\n",
    "        return -1\n",
    "                "
   ]
  },
  {
   "cell_type": "code",
   "execution_count": 25,
   "metadata": {},
   "outputs": [
    {
     "name": "stdout",
     "output_type": "stream",
     "text": [
      "683\n",
      "-1\n"
     ]
    }
   ],
   "source": [
    "inventory = Inventory('laptops.csv')\n",
    "print(inventory.find_first_laptop_more_expensive(1000))\n",
    "print(inventory.find_first_laptop_more_expensive(10000))"
   ]
  }
 ],
 "metadata": {
  "kernelspec": {
   "display_name": "Python 3",
   "language": "python",
   "name": "python3"
  },
  "language_info": {
   "codemirror_mode": {
    "name": "ipython",
    "version": 3
   },
   "file_extension": ".py",
   "mimetype": "text/x-python",
   "name": "python",
   "nbconvert_exporter": "python",
   "pygments_lexer": "ipython3",
   "version": "3.8.2"
  }
 },
 "nbformat": 4,
 "nbformat_minor": 2
}
