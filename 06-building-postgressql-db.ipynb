{
 "cells": [
  {
   "cell_type": "markdown",
   "metadata": {},
   "source": [
    "# Building Database for Crime Reports\n",
    "The goal of thisproject is to create a database named `crimes_db` with a table – `boston_crimes` – with appropriate datatypes for storing the data from the boston.csv file. \n",
    "We will be creating the table inside a schema named `crimes`. \n",
    "\n",
    "We will create two user groups:\n",
    "- `readonly`: Users in this group will have permission to read data only.\n",
    "- `readwrite`: Users in this group will have permissions to read and alter data but not to delete tables.\n",
    "\n",
    "Finally, create one user for each of these groups. \n",
    "\n",
    "The following diagram illustrates a high-level overview of what we want to achieve:"
   ]
  },
  {
   "cell_type": "markdown",
   "metadata": {},
   "source": [
    "![image](https://dq-content.s3.amazonaws.com/250/goal.png)"
   ]
  },
  {
   "cell_type": "markdown",
   "metadata": {},
   "source": [
    "## Create Database and Schema\n",
    "\n",
    "Create a database named `crime_db` and a schema named `crimes` for storing the tables for containing the crime data.\n",
    "\n",
    "The database `crime_db` does not exist yet so we connect to `dq`."
   ]
  },
  {
   "cell_type": "code",
   "execution_count": 1,
   "metadata": {
    "collapsed": false,
    "scrolled": true
   },
   "outputs": [],
   "source": [
    "import psycopg2\n",
    "conn = psycopg2.connect(dbname='dq', user='dq')\n",
    "conn.autocommit = True\n",
    "cur = conn.cursor()\n",
    "\n",
    "# delete user, group, and database if exist before we create new.\n",
    "cur.execute('DROP USER IF EXISTS data_analyst, data_scientist')\n",
    "cur.execute('DROP DATABASE IF EXISTS crime_db')\n",
    "cur.execute('DROP GROUP IF EXISTS readonly, readwrite')\n",
    "\n",
    "cur.execute('CREATE DATABASE crime_db')\n",
    "conn.autocommit = False"
   ]
  },
  {
   "cell_type": "code",
   "execution_count": 2,
   "metadata": {
    "collapsed": true
   },
   "outputs": [],
   "source": [
    "conn = psycopg2.connect(dbname='crime_db', user='dq')\n",
    "conn.autocommit = True\n",
    "cur = conn.cursor()\n",
    "cur.execute(\"CREATE SCHEMA crimes;\")"
   ]
  },
  {
   "cell_type": "markdown",
   "metadata": {},
   "source": [
    "## Exploring the CSV Data Set\n",
    "\n",
    "Obtain the header row and assign it to a variable named `col_headers` and obtain the first data row and assign it to a variable named `first_row`."
   ]
  },
  {
   "cell_type": "code",
   "execution_count": 3,
   "metadata": {
    "collapsed": false
   },
   "outputs": [
    {
     "name": "stdout",
     "output_type": "stream",
     "text": [
      "['incident_number', 'offense_code', 'description', 'date', 'day_of_the_week', 'lat', 'long']\n",
      "['1', '619', 'LARCENY ALL OTHERS', '2018-09-02', 'Sunday', '42.35779134', '-71.13937053']\n"
     ]
    }
   ],
   "source": [
    "import csv\n",
    "#read_file = csv.reader('boston.csv')\n",
    "\n",
    "\n",
    "with open('boston.csv', 'r') as file:\n",
    "    reader = csv.reader(file)\n",
    "    file_lst = list(reader)\n",
    "    col_headers = file_lst[0]\n",
    "    first_row = file_lst[1]\n",
    "    \n",
    "print(col_headers)\n",
    "print(first_row)"
   ]
  },
  {
   "cell_type": "markdown",
   "metadata": {},
   "source": [
    "## Creating a function for analyzing column values\n",
    "Create a function `get_col_set` that given a CSV file name and a column index computes the set of all distinct values in that column.\n",
    "\n",
    "Use the function on each column to evaluate which columns have a lot of different values. Columns with a limited set of possible values are good candidates for enumerated datatypes."
   ]
  },
  {
   "cell_type": "code",
   "execution_count": 4,
   "metadata": {
    "collapsed": false
   },
   "outputs": [],
   "source": [
    "def get_col_set(csv_filename, col_index):\n",
    "    import csv\n",
    "    with open(csv_filename, 'r') as file:\n",
    "        next(file)\n",
    "        reader = csv.reader(file)\n",
    "        col_set = set()\n",
    "        for row in reader:\n",
    "            col_set.add(row[col_index])\n",
    "    return col_set"
   ]
  },
  {
   "cell_type": "markdown",
   "metadata": {},
   "source": [
    "## Analyzing the maximum length of the every columns\n",
    "We use the `get_col_set` function to compute the maximum length to decide an appropriate length for that field.\n",
    "From the result which displays unique values, maximum character length of and example values, we can justify which datatype suitable for every columns."
   ]
  },
  {
   "cell_type": "code",
   "execution_count": 5,
   "metadata": {
    "collapsed": false,
    "scrolled": false
   },
   "outputs": [
    {
     "name": "stdout",
     "output_type": "stream",
     "text": [
      "Columns          Counts           Max Chars        Max Output\n",
      "======================================================================\n",
      "incident_number  298329           6                212703\n",
      "offense_code     219              4                2003\n",
      "description      239              58               RECOVERED - MV RECOVERED IN BOSTON (STOLEN OUTSIDE BOSTON)\n",
      "date             1177             10               2017-12-25\n",
      "day_of_the_week  7                9                Wednesday\n",
      "lat              18177            11               42.35326248\n",
      "long             18177            12               -71.08544157\n"
     ]
    }
   ],
   "source": [
    "print(('Columns' +'\\t'+ 'Counts' +'\\t'+ 'Max Chars' +'\\t'+ 'Max Output').expandtabs(17))\n",
    "print(\"=\"*70)\n",
    "for i in range(7):\n",
    "    values = str(len(get_col_set('boston.csv', i)))\n",
    "    max_len = 0\n",
    "    the_max = ''\n",
    "    for s in get_col_set('boston.csv', i):\n",
    "        length = len(s)\n",
    "        max_len = max(max_len, length)\n",
    "        if max_len == length:\n",
    "            the_max = s\n",
    "\n",
    "    print((col_headers[i] +'\\t'+ values +'\\t'+ str(max_len) + '\\t'+ the_max).expandtabs(17))\n",
    "    "
   ]
  },
  {
   "cell_type": "markdown",
   "metadata": {},
   "source": [
    "## Creating the table\n",
    "We have create an enumerated datatype named weekday for the `day_of_the_week` since there there only 7 possible values.\n",
    "\n",
    "For the `incident_number` we have decided to user the type `INTEGER` and set it as the primary key. The same datatype was also used to represent the `offense_code`.\n",
    "\n",
    "Since the `description` has at most `58` character we decided to use the datatype `VARCHAR(70)` for representing it. This leave some margin while not being so big that we will waste a lot of memory.\n",
    "\n",
    "The `date` was represented as the `DATE` datatype. Finally, for the latitude 'lat` and 'long` longitude we used `DECIMAL` datatypes."
   ]
  },
  {
   "cell_type": "code",
   "execution_count": 6,
   "metadata": {
    "collapsed": false
   },
   "outputs": [],
   "source": [
    "cur.execute('''CREATE TYPE days_enum AS ENUM (\n",
    "    'Monday', 'Tuesday', 'Wednesday', 'Thursday', 'Friday', 'Saturday', 'Sunday'\n",
    "    );''')\n",
    "\n",
    "cur.execute(\"\"\"\n",
    "CREATE TABLE crimes.boston_crimes (\n",
    "    incident_number INTEGER PRIMARY KEY,\n",
    "    offense_code INTEGER,\n",
    "    description VARCHAR(70),\n",
    "    date DATE NOT NULL,\n",
    "    day_of_the_week DAYS_ENUM,\n",
    "    lat DECIMAL(10, 8),\n",
    "    long DECIMAL(10, 8));\n",
    "    \"\"\")\n",
    "\n",
    "conn.commit()"
   ]
  },
  {
   "cell_type": "markdown",
   "metadata": {},
   "source": [
    "## Load the data into the table\n",
    "We used the copy_expert to load the data as it is very fast and very succinct to use."
   ]
  },
  {
   "cell_type": "code",
   "execution_count": 7,
   "metadata": {
    "collapsed": false,
    "scrolled": true
   },
   "outputs": [
    {
     "name": "stdout",
     "output_type": "stream",
     "text": [
      "298329\n",
      "None\n"
     ]
    }
   ],
   "source": [
    "with open(\"boston.csv\", \"r\") as f:\n",
    "    cur.copy_expert(\"COPY crimes.boston_crimes FROM STDIN WITH CSV HEADER\", f)\n",
    "    \n",
    "# print the number of rows and a sample to ensure that they were loaded\n",
    "cur.execute(\"SELECT * FROM crimes.boston_crimes\")\n",
    "print(len(cur.fetchall()))\n",
    "print(cur.fetchone())"
   ]
  },
  {
   "cell_type": "markdown",
   "metadata": {},
   "source": [
    "## Revoke public privileges\n",
    "We revoke all privileges of the public `public` group on the `public` schema to ensure that users will not inherit privileges on that schema such as the ability to create tables in the `public` schema.\n",
    "\n",
    "We also need to revoke all privileges in the newly created schema. Doing this also makes it so that we do not need to revoke the privileges when we create users and groups because unless specified otherwise, privileges are not granted by default."
   ]
  },
  {
   "cell_type": "code",
   "execution_count": 8,
   "metadata": {
    "collapsed": false
   },
   "outputs": [],
   "source": [
    "cur.execute(\"REVOKE ALL ON SCHEMA public FROM public;\")\n",
    "cur.execute(\"REVOKE ALL ON DATABASE crime_db FROM public;\")"
   ]
  },
  {
   "cell_type": "markdown",
   "metadata": {},
   "source": [
    "## Creating the read only group\n",
    "We create a `readonly` group with `NOLOGIN` because it is a group and not a user. We grant the group the ability to connect to the `crime_db` and the ability to use the `crimes` schema.\n",
    "\n",
    "Then we deal wit tables privileges by granting `SELECT`. We also add an extra line compared with what was asked. This extra line changes the way that privileges are given by default to the `readonly` group on new table that are created on the `crimes` schema. As we mentioned, by default not privileges are given. However we change is so that by default any user in the `readonly` group can issue select commands."
   ]
  },
  {
   "cell_type": "code",
   "execution_count": 9,
   "metadata": {
    "collapsed": false
   },
   "outputs": [],
   "source": [
    "cur.execute(\"CREATE GROUP readonly NOLOGIN;\")\n",
    "cur.execute(\"GRANT CONNECT ON DATABASE crime_db TO readonly;\")\n",
    "cur.execute(\"REVOKE ALL ON ALL TABLES IN SCHEMA crimes FROM readonly;\")\n",
    "cur.execute(\"GRANT SELECT ON ALL TABLES IN SCHEMA crimes TO readonly;\")\n"
   ]
  },
  {
   "cell_type": "markdown",
   "metadata": {},
   "source": [
    "## Creating the read-write group\n",
    "We create a `readwrite` group with `NOLOGIN` because it is a group and not a user. We grant the group the ability to connect to the `crime_db` and the ability to use the `crimes` schema.\n",
    "\n",
    "Then we deal with tables privileges by granting `SELECT`, `INSERT`, `UPDATE` and `DELETE`. As before we change the default privileges so that user in the `readwrite` group have these privileges if we ever create a new table on the `crimes` schema."
   ]
  },
  {
   "cell_type": "code",
   "execution_count": 10,
   "metadata": {
    "collapsed": false
   },
   "outputs": [],
   "source": [
    "cur.execute(\"CREATE GROUP readwrite NOLOGIN;\")  \n",
    "cur.execute(\"GRANT CONNECT ON DATABASE crime_db TO readwrite;\")\n",
    "cur.execute(\"REVOKE ALL ON ALL TABLES IN SCHEMA crimes FROM readwrite;\")\n",
    "cur.execute(\"GRANT SELECT, INSERT, DELETE, UPDATE ON ALL TABLES IN SCHEMA crimes TO readwrite;\")\n"
   ]
  },
  {
   "cell_type": "markdown",
   "metadata": {},
   "source": [
    "## Creating one user for each group\n",
    "We create a user named `data_analyst` with password `secret1` in the `readonly` group.\n",
    "\n",
    "We create a user named `data_scientist` with password `secret2` in the `readwrite` group.\n",
    "\n",
    "We also alter both users permissions with `NOSUPERUSER` for better precaution."
   ]
  },
  {
   "cell_type": "code",
   "execution_count": 11,
   "metadata": {
    "collapsed": false
   },
   "outputs": [],
   "source": [
    "cur.execute(\"CREATE USER data_analyst WITH PASSWORD 'secret1';\")\n",
    "cur.execute(\"GRANT readonly TO data_analyst;\")\n",
    "cur.execute(\"ALTER USER readonly WITH NOSUPERUSER;\")\n",
    "\n",
    "cur.execute(\"CREATE USER data_scientist WITH PASSWORD 'secret2';\")\n",
    "cur.execute(\"GRANT readwrite TO data_analyst;\")\n",
    "cur.execute(\"ALTER USER readwrite WITH NOSUPERUSER;\")"
   ]
  },
  {
   "cell_type": "code",
   "execution_count": 12,
   "metadata": {
    "collapsed": true
   },
   "outputs": [],
   "source": [
    "# close the old connection to test with a brand new connection\n",
    "conn.close()"
   ]
  },
  {
   "cell_type": "markdown",
   "metadata": {},
   "source": [
    "## Test the database setup\n",
    "Test the database setup using SQL queries on the `pg_roles` table and `information_schema.table_privileges`.\n",
    "\n",
    "In the `pg_roles` table we will check database related privileges and for that we will look at the following columns:\n",
    "\n",
    "- `rolname`: The name of the user / group that the privilege refers to.\n",
    "- `rolsuper`: Whether this user / group is a super user. It should be set to False on every user / group that we have created.\n",
    "- `rolcreaterole`: Whether user / group can create users, groups or roles. It should be False on every user / group that we have created.\n",
    "- `rolcreatedb`: Whether user / group can create databases. It should be False on every user / group that we have created.\n",
    "- `rolcanlogin`: Whether user / group can login. It should be True on the users and False on the groups that we have created.\n",
    "\n",
    "In the `information_schema.table_privileges` we will check privileges related to SQL queries on tables. We will list the privileges of each group that we have created."
   ]
  },
  {
   "cell_type": "code",
   "execution_count": 13,
   "metadata": {
    "collapsed": false
   },
   "outputs": [
    {
     "name": "stdout",
     "output_type": "stream",
     "text": [
      "('data_analyst', False, False, False, True)\n",
      "('readonly', False, False, False, False)\n",
      "('data_scientist', False, False, False, True)\n",
      "('readwrite', False, False, False, False)\n"
     ]
    }
   ],
   "source": [
    "conn = psycopg2.connect(dbname=\"crime_db\", user=\"dq\")\n",
    "cur = conn.cursor()\n",
    "\n",
    "# check users and groups\n",
    "cur.execute(\"\"\"\n",
    "    SELECT rolname, rolsuper, rolcreaterole, rolcreatedb, rolcanlogin FROM pg_roles\n",
    "    WHERE rolname IN ('readonly', 'readwrite', 'data_analyst', 'data_scientist');\n",
    "\"\"\")\n",
    "for user in cur:\n",
    "    print(user)\n"
   ]
  },
  {
   "cell_type": "code",
   "execution_count": 14,
   "metadata": {
    "collapsed": false
   },
   "outputs": [
    {
     "name": "stdout",
     "output_type": "stream",
     "text": [
      "[('dq', 'readonly', 'SELECT'), ('dq', 'readwrite', 'INSERT'), ('dq', 'readwrite', 'SELECT'), ('dq', 'readwrite', 'UPDATE'), ('dq', 'readwrite', 'DELETE')]\n"
     ]
    }
   ],
   "source": [
    "# check privileges\n",
    "cur.execute(\"\"\"\n",
    "    SELECT grantor, grantee, privilege_type\n",
    "    FROM information_schema.table_privileges\n",
    "    WHERE grantee IN ('readonly', 'readwrite');\n",
    "\"\"\")\n",
    "print(cur.fetchall())\n",
    "\n",
    "conn.close()"
   ]
  }
 ],
 "metadata": {
  "kernelspec": {
   "display_name": "Python 3",
   "language": "python",
   "name": "python3"
  },
  "language_info": {
   "codemirror_mode": {
    "name": "ipython",
    "version": 3
   },
   "file_extension": ".py",
   "mimetype": "text/x-python",
   "name": "python",
   "nbconvert_exporter": "python",
   "pygments_lexer": "ipython3",
   "version": "3.4.3"
  }
 },
 "nbformat": 4,
 "nbformat_minor": 2
}
